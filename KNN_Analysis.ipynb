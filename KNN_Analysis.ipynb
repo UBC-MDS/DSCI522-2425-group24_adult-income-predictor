{
 "cells": [
  {
   "cell_type": "code",
   "execution_count": 1,
   "id": "82e550fa-6d93-4433-b773-5df55eea98b4",
   "metadata": {},
   "outputs": [],
   "source": [
    "import numpy as np\n",
    "import pandas as pd\n",
    "from sklearn.neighbors import KNeighborsClassifier\n",
    "from sklearn.model_selection import train_test_split\n",
    "from sklearn.compose import make_column_transformer\n",
    "from sklearn.preprocessing import StandardScaler\n",
    "from sklearn.preprocessing import OneHotEncoder\n",
    "from sklearn.pipeline import make_pipeline\n",
    "from sklearn.impute import SimpleImputer\n",
    "\n",
    "\n"
   ]
  },
  {
   "cell_type": "code",
   "execution_count": 3,
   "id": "48a5084e-4a5b-4caa-aee4-1d2ba41f9b7c",
   "metadata": {},
   "outputs": [
    {
     "name": "stdout",
     "output_type": "stream",
     "text": [
      "       income\n",
      "0       <=50K\n",
      "1       <=50K\n",
      "2       <=50K\n",
      "3       <=50K\n",
      "4       <=50K\n",
      "...       ...\n",
      "48837  <=50K.\n",
      "48838  <=50K.\n",
      "48839  <=50K.\n",
      "48840  <=50K.\n",
      "48841   >50K.\n",
      "\n",
      "[48842 rows x 1 columns]\n"
     ]
    }
   ],
   "source": [
    "\n",
    "\n",
    "categorical_features = [\"marital-status\", \"relationship\", \"occupation\", \"workclass\", \"race\"]\n",
    "binary_features = [\"sex\"]\n",
    "drop_features = [\"age\", \"fnlwgt\", \"education\", \"education-num\", \"capital-gain\", \"capital-loss\", \"hours-per-week\", \"native-country\"]\n",
    "\n",
    "binary_transformer = OneHotEncoder(drop=\"if_binary\", dtype=int)\n",
    "categorical_transformer = make_pipeline(\n",
    "    SimpleImputer(strategy=\"constant\", fill_value=\"missing\"),\n",
    "    OneHotEncoder(handle_unknown=\"ignore\", sparse_output=False),\n",
    ")\n",
    "\n",
    "preprocessor = make_column_transformer(   \n",
    "    (binary_transformer, binary_features),    \n",
    "    (categorical_transformer, categorical_features),\n",
    "    (\"drop\", drop_features),\n",
    ")\n",
    "\n",
    "model = KNeighborsClassifier()\n",
    "pipe = make_pipeline(preprocessor, model)\n",
    "pipe.fit(X_train, y_train)\n",
    "test_score = pipe.score(X_test, y_test)"
   ]
  }
 ],
 "metadata": {
  "kernelspec": {
   "display_name": "Python [conda env:base] *",
   "language": "python",
   "name": "conda-base-py"
  },
  "language_info": {
   "codemirror_mode": {
    "name": "ipython",
    "version": 3
   },
   "file_extension": ".py",
   "mimetype": "text/x-python",
   "name": "python",
   "nbconvert_exporter": "python",
   "pygments_lexer": "ipython3",
   "version": "3.11.9"
  }
 },
 "nbformat": 4,
 "nbformat_minor": 5
}
